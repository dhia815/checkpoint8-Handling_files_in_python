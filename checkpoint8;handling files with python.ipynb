{
 "cells": [
  {
   "cell_type": "code",
   "execution_count": 48,
   "id": "a600a69f",
   "metadata": {},
   "outputs": [
    {
     "data": {
      "text/plain": [
       "'What is Python language?                                                \\nPython is a widely used high-level, general-purpose, interpreted, dynamic programming language.Its design philosophy emphasizes code readability, and its syntax allows programmers to express concepts in fewer lines of code than possible in \\nlanguages such as C++ or Java. \\nPython supports multiple programming paradigms, including object-oriented, imperative and functional programming or procedural styles. It features a dynamic type system and automatic memory management and has a large and comprehensive standard library.The best way we learn anything is by practice and exercise questions. We  have started this section for those (beginner to intermediate) who are familiar with Python.'"
      ]
     },
     "execution_count": 48,
     "metadata": {},
     "output_type": "execute_result"
    }
   ],
   "source": [
    "# Question 1:\n",
    "\n",
    "file = open(\"python.txt\",'r',encoding = 'utf-8')\n",
    "file.read()"
   ]
  },
  {
   "cell_type": "code",
   "execution_count": 68,
   "id": "8e89ac07",
   "metadata": {},
   "outputs": [
    {
     "name": "stdout",
     "output_type": "stream",
     "text": [
      "Method 1: \n",
      "Put the number of lines you want to read: 2\n",
      "What is Python language?                                                \n",
      "\n",
      "Python is a widely used high-level, general-purpose, interpreted, dynamic programming language.Its design philosophy emphasizes code readability, and its syntax allows programmers to express concepts in fewer lines of code than possible in \n",
      "\n",
      "\n",
      "\n",
      "Method 2: \n",
      "Put the number of lines you want to read: 1\n",
      "What is Python language?                                                \n",
      "\n"
     ]
    }
   ],
   "source": [
    "# Question 2:\n",
    "\n",
    "# method 1: \n",
    "print(\"Method 1: \")\n",
    "n = int(input(\"Put the number of lines you want to read: \"))\n",
    "file = open(\"python.txt\",'r',encoding = 'utf-8')\n",
    "\n",
    "for i,line in enumerate(file.readlines()):\n",
    "    if i+1 > n:\n",
    "        break\n",
    "    else:\n",
    "        print(line)\n",
    "\n",
    "# method 2:\n",
    "print(\"\\n\\nMethod 2: \")\n",
    "n = int(input(\"Put the number of lines you want to read: \"))\n",
    "file = open(\"python.txt\",'r',encoding = 'utf-8')\n",
    "num_of_lines = 0\n",
    "for line in file:\n",
    "    if num_of_lines < n:\n",
    "        print(line)\n",
    "        num_of_lines += 1"
   ]
  },
  {
   "cell_type": "code",
   "execution_count": 82,
   "id": "3e1b6399",
   "metadata": {},
   "outputs": [
    {
     "name": "stdout",
     "output_type": "stream",
     "text": [
      "Put the number of lines you want to read: 2\n",
      "languages such as C++ or Java. \n",
      "\n",
      "Python supports multiple programming paradigms, including object-oriented, imperative and functional programming or procedural styles. It features a dynamic type system and automatic memory management and has a large and comprehensive standard library.The best way we learn anything is by practice and exercise questions. We  have started this section for those (beginner to intermediate) who are familiar with Python.\n"
     ]
    }
   ],
   "source": [
    "# Question 3:\n",
    "\n",
    "n = int(input(\"Put the number of lines you want to read: \"))\n",
    "file = open(\"python.txt\",'r',encoding = 'utf-8')\n",
    "for i in file.readlines()[-n:]:\n",
    "    print(i)"
   ]
  },
  {
   "cell_type": "code",
   "execution_count": 80,
   "id": "9dfb378e",
   "metadata": {},
   "outputs": [
    {
     "name": "stdout",
     "output_type": "stream",
     "text": [
      "the number of words in this file is 100\n"
     ]
    }
   ],
   "source": [
    "# Question 4:\n",
    "file = open(\"python.txt\",'r',encoding = 'utf-8')\n",
    "space = 1\n",
    "num_words = 0\n",
    "for line in file:\n",
    "    for i in line:\n",
    "        if i == \" \":\n",
    "            space = 1\n",
    "        else:\n",
    "            if space == 1:\n",
    "                num_words += 1\n",
    "                space = 0\n",
    "print(\"the number of words in this file is\", num_words)"
   ]
  },
  {
   "cell_type": "code",
   "execution_count": 81,
   "id": "c4adc521",
   "metadata": {},
   "outputs": [
    {
     "name": "stdout",
     "output_type": "stream",
     "text": [
      "Put the number of lines you want to read: 3\n",
      "Python is a widely used high-level, general-purpose, interpreted, dynamic programming language.Its design philosophy emphasizes code readability, and its syntax allows programmers to express concepts in fewer lines of code than possible in \n",
      "\n",
      "languages such as C++ or Java. \n",
      "\n",
      "Python supports multiple programming paradigms, including object-oriented, imperative and functional programming or procedural styles. It features a dynamic type system and automatic memory management and has a large and comprehensive standard library.The best way we learn anything is by practice and exercise questions. We  have started this section for those (beginner to intermediate) who are familiar with Python.\n"
     ]
    }
   ],
   "source": [
    "# Question 5 (same as question 3):\n",
    "\n",
    "n = int(input(\"Put the number of lines you want to read: \"))\n",
    "file = open(\"python.txt\",'r',encoding = 'utf-8')\n",
    "for i in file.readlines()[-n:]:\n",
    "    print(i)"
   ]
  },
  {
   "cell_type": "code",
   "execution_count": null,
   "id": "3c6c1d4f",
   "metadata": {},
   "outputs": [],
   "source": []
  }
 ],
 "metadata": {
  "kernelspec": {
   "display_name": "Python 3",
   "language": "python",
   "name": "python3"
  },
  "language_info": {
   "codemirror_mode": {
    "name": "ipython",
    "version": 3
   },
   "file_extension": ".py",
   "mimetype": "text/x-python",
   "name": "python",
   "nbconvert_exporter": "python",
   "pygments_lexer": "ipython3",
   "version": "3.8.8"
  }
 },
 "nbformat": 4,
 "nbformat_minor": 5
}
